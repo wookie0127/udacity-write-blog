{
  "nbformat": 4,
  "nbformat_minor": 0,
  "metadata": {
    "colab": {
      "name": "CIRSP-DM about Boston Airbnb.ipynb",
      "provenance": [],
      "collapsed_sections": [
        "XjSFeLgYIkLH",
        "KWb9c0b0SWQV",
        "ms0irLc6UZFK"
      ],
      "authorship_tag": "ABX9TyN8ocjuX0+qY/lh0WGTKbmq",
      "include_colab_link": true
    },
    "kernelspec": {
      "name": "python3",
      "display_name": "Python 3"
    }
  },
  "cells": [
    {
      "cell_type": "markdown",
      "metadata": {
        "id": "view-in-github",
        "colab_type": "text"
      },
      "source": [
        "<a href=\"https://colab.research.google.com/github/wookie0127/udacity-write-blog/blob/main/CIRSP_DM_about_Boston_Airbnb.ipynb\" target=\"_parent\"><img src=\"https://colab.research.google.com/assets/colab-badge.svg\" alt=\"Open In Colab\"/></a>"
      ]
    },
    {
      "cell_type": "markdown",
      "metadata": {
        "id": "7uAHLzOv1Q9f"
      },
      "source": [
        "# 1. Business Understanding\n",
        "\n",
        " - Abstract: accomodation sharing platform\n",
        " - Business Model: fee from both hosts and guests\n",
        "   - about 3% from hosts\n",
        "   - 6~12% from guests\n",
        " - Objectives: increasing transactions between hosts and guests\n",
        " - Reference: https://bmtoolbox.net/stories/airbnb/"
      ]
    },
    {
      "cell_type": "markdown",
      "metadata": {
        "id": "XjSFeLgYIkLH"
      },
      "source": [
        "## How to make objectives possible??\n",
        "\n",
        " - ### Hypothesis: guests may make a reservation for some reasons below\n",
        "   - busy season\n",
        "     - people may make a reservation in a specific duration like summer vacation\n",
        "   - popular location\n",
        "     - accomodations in specific locations are popular to stay\n",
        "   - room type\n",
        "     - people like specific room type\n",
        "   - prefered travel weekday\n",
        "     - people usually make a reservation on specific day in a week and specific duration\n",
        "   - prefer price range\n",
        "     - may make many reservation if a price in  a specific range"
      ]
    },
    {
      "cell_type": "markdown",
      "metadata": {
        "id": "wva-9P0Y8WTz"
      },
      "source": [
        "# 2. Data Understanding\n",
        " - listings: full descriptions and average review score\n",
        " - calendar: listing_id and price, availability for that day\n",
        " - reviews: unique reviewer id and comments"
      ]
    },
    {
      "cell_type": "code",
      "metadata": {
        "colab": {
          "base_uri": "https://localhost:8080/"
        },
        "id": "qwLvRkAdufYp",
        "outputId": "19db8a9e-85e9-4674-9045-492d7aad32c1"
      },
      "source": [
        "# mount google drive\n",
        "from google.colab import drive\n",
        "drive.mount('/content/gdrive/')"
      ],
      "execution_count": 1,
      "outputs": [
        {
          "output_type": "stream",
          "name": "stdout",
          "text": [
            "Mounted at /content/gdrive/\n"
          ]
        }
      ]
    },
    {
      "cell_type": "code",
      "metadata": {
        "id": "cUjL8g66L5pI"
      },
      "source": [
        "# libarary\n",
        "import matplotlib.pyplot as plt\n",
        "import os\n",
        "import pandas as pd\n",
        "import seaborn as sns\n",
        "\n",
        "from collections import defaultdict\n"
      ],
      "execution_count": 2,
      "outputs": []
    },
    {
      "cell_type": "code",
      "metadata": {
        "colab": {
          "base_uri": "https://localhost:8080/"
        },
        "id": "Qll_JecprV62",
        "outputId": "68bb748e-11b8-4c10-f55c-799a0701983f"
      },
      "source": [
        "import matplotlib\n",
        "print(matplotlib.__version__)\n",
        "print(pd.__version__)\n",
        "print(sns.__version__)"
      ],
      "execution_count": 3,
      "outputs": [
        {
          "output_type": "stream",
          "name": "stdout",
          "text": [
            "3.2.2\n",
            "1.1.5\n",
            "0.11.2\n"
          ]
        }
      ]
    },
    {
      "cell_type": "code",
      "metadata": {
        "id": "Iz4SfkjmulfP"
      },
      "source": [
        "# setting data directory\n",
        "curdir = '/content/gdrive/MyDrive/Udacity/Nanodegree/DataScientist/Write_A_Data_Science_Blog_Post'"
      ],
      "execution_count": 4,
      "outputs": []
    },
    {
      "cell_type": "markdown",
      "metadata": {
        "id": "Do_TP6Qor0wq"
      },
      "source": [
        "## Collect all data"
      ]
    },
    {
      "cell_type": "code",
      "metadata": {
        "id": "PHe80GIGu3nL"
      },
      "source": [
        "files = defaultdict(list)\n",
        "dirs = [f'{curdir}/{path}' for path in os.listdir(curdir)]\n",
        "for item in dirs:\n",
        "  if os.path.isfile(item):\n",
        "    # item is a file\n",
        "    continue\n",
        "  fs = os.listdir(item)\n",
        "  item_name = item.split('/')[-1]\n",
        "  files[item_name].extend(\n",
        "      [f\"{item}/{fpath}\" for fpath in fs if fpath.endswith('csv')]\n",
        "  )"
      ],
      "execution_count": 5,
      "outputs": []
    },
    {
      "cell_type": "code",
      "metadata": {
        "id": "3iWPEjpVXMA3"
      },
      "source": [
        "bt_rev_df = pd.read_csv(files['Boston_AirBnb'][0])\n",
        "bt_cal_df = pd.read_csv(files['Boston_AirBnb'][1])\n",
        "bt_list_df = pd.read_csv(files['Boston_AirBnb'][2])"
      ],
      "execution_count": 6,
      "outputs": []
    },
    {
      "cell_type": "markdown",
      "metadata": {
        "id": "1AO9nGS7xCgC"
      },
      "source": [
        "## Explore Data"
      ]
    },
    {
      "cell_type": "markdown",
      "metadata": {
        "id": "DW7j93cJ6lLd"
      },
      "source": [
        "### Review"
      ]
    },
    {
      "cell_type": "code",
      "metadata": {
        "colab": {
          "base_uri": "https://localhost:8080/"
        },
        "id": "PAHsqeOMxJjy",
        "outputId": "6973ebc7-b953-4d99-94aa-b92a66e55346"
      },
      "source": [
        "# review\n",
        "print(bt_rev_df.shape)\n",
        "print(bt_rev_df.columns)"
      ],
      "execution_count": 10,
      "outputs": [
        {
          "output_type": "stream",
          "name": "stdout",
          "text": [
            "(68275, 6)\n",
            "Index(['listing_id', 'id', 'date', 'reviewer_id', 'reviewer_name', 'comments'], dtype='object')\n"
          ]
        }
      ]
    },
    {
      "cell_type": "code",
      "metadata": {
        "colab": {
          "base_uri": "https://localhost:8080/"
        },
        "id": "sMgf5I9vxRzW",
        "outputId": "51f3d0e9-079d-4d7c-f849-e103c90076f4"
      },
      "source": [
        "bt_rev_df.isnull().sum()"
      ],
      "execution_count": 11,
      "outputs": [
        {
          "output_type": "execute_result",
          "data": {
            "text/plain": [
              "listing_id        0\n",
              "id                0\n",
              "date              0\n",
              "reviewer_id       0\n",
              "reviewer_name     0\n",
              "comments         53\n",
              "dtype: int64"
            ]
          },
          "metadata": {},
          "execution_count": 11
        }
      ]
    },
    {
      "cell_type": "code",
      "metadata": {
        "colab": {
          "base_uri": "https://localhost:8080/"
        },
        "id": "mJvF8Mc2xtxE",
        "outputId": "c0cb2f73-376e-49c8-b5e1-e464e1d31d3b"
      },
      "source": [
        "bt_rev_df.iloc[0]"
      ],
      "execution_count": 12,
      "outputs": [
        {
          "output_type": "execute_result",
          "data": {
            "text/plain": [
              "listing_id                                                 1178162\n",
              "id                                                         4724140\n",
              "date                                                    2013-05-21\n",
              "reviewer_id                                                4298113\n",
              "reviewer_name                                              Olivier\n",
              "comments         My stay at islam's place was really cool! Good...\n",
              "Name: 0, dtype: object"
            ]
          },
          "metadata": {},
          "execution_count": 12
        }
      ]
    },
    {
      "cell_type": "code",
      "metadata": {
        "colab": {
          "base_uri": "https://localhost:8080/"
        },
        "id": "LzfcRJbPx5n9",
        "outputId": "bf13a0cd-e9da-4936-b3b7-5d4a370a08cf"
      },
      "source": [
        "print(bt_rev_df.reviewer_id.nunique())\n",
        "print(bt_rev_df.reviewer_name.nunique())"
      ],
      "execution_count": 14,
      "outputs": [
        {
          "output_type": "stream",
          "name": "stdout",
          "text": [
            "63789\n",
            "14775\n"
          ]
        }
      ]
    },
    {
      "cell_type": "markdown",
      "metadata": {
        "id": "Vnl8ZzldxyKl"
      },
      "source": [
        "  - comments field has 53 empty rows\n",
        "  - number of reviewer_id is not equal to number of reviewer name\n",
        "    - reviewer can make several id\n",
        "    - users may have saveral reviewer ids"
      ]
    },
    {
      "cell_type": "markdown",
      "metadata": {
        "id": "1lpbhhTw6oIY"
      },
      "source": [
        "### Calendar"
      ]
    },
    {
      "cell_type": "code",
      "metadata": {
        "colab": {
          "base_uri": "https://localhost:8080/"
        },
        "id": "7DC9hFr1zDn_",
        "outputId": "aae0cefd-4626-4962-c4fa-fb13285e45b2"
      },
      "source": [
        " # calendar\n",
        "print(bt_cal_df.shape)\n",
        "print(bt_cal_df.columns)"
      ],
      "execution_count": 15,
      "outputs": [
        {
          "output_type": "stream",
          "name": "stdout",
          "text": [
            "(1308890, 4)\n",
            "Index(['listing_id', 'date', 'available', 'price'], dtype='object')\n"
          ]
        }
      ]
    },
    {
      "cell_type": "code",
      "metadata": {
        "colab": {
          "base_uri": "https://localhost:8080/"
        },
        "id": "D89amZ3bzRp2",
        "outputId": "f0966f33-f60d-4d80-80af-0d00c9f32936"
      },
      "source": [
        "bt_cal_df.isnull().sum()"
      ],
      "execution_count": 16,
      "outputs": [
        {
          "output_type": "execute_result",
          "data": {
            "text/plain": [
              "listing_id         0\n",
              "date               0\n",
              "available          0\n",
              "price         665853\n",
              "dtype: int64"
            ]
          },
          "metadata": {},
          "execution_count": 16
        }
      ]
    },
    {
      "cell_type": "code",
      "metadata": {
        "colab": {
          "base_uri": "https://localhost:8080/"
        },
        "id": "ui7W3q0nzWyA",
        "outputId": "035e07e5-ff86-4fde-85e8-5d15b37c3a20"
      },
      "source": [
        "bt_cal_df.iloc[0]"
      ],
      "execution_count": 17,
      "outputs": [
        {
          "output_type": "execute_result",
          "data": {
            "text/plain": [
              "listing_id      12147973\n",
              "date          2017-09-05\n",
              "available              f\n",
              "price                NaN\n",
              "Name: 0, dtype: object"
            ]
          },
          "metadata": {},
          "execution_count": 17
        }
      ]
    },
    {
      "cell_type": "code",
      "metadata": {
        "colab": {
          "base_uri": "https://localhost:8080/"
        },
        "id": "NgVFUq46zuAz",
        "outputId": "34fdbceb-43ae-454d-8cb1-d01fe7b93723"
      },
      "source": [
        "bt_cal_df.price.describe()"
      ],
      "execution_count": 18,
      "outputs": [
        {
          "output_type": "execute_result",
          "data": {
            "text/plain": [
              "count      643037\n",
              "unique       1246\n",
              "top       $150.00\n",
              "freq        20752\n",
              "Name: price, dtype: object"
            ]
          },
          "metadata": {},
          "execution_count": 18
        }
      ]
    },
    {
      "cell_type": "code",
      "metadata": {
        "id": "ajMYYHXR0AvM"
      },
      "source": [
        "tmp = bt_cal_df['price'].value_counts()"
      ],
      "execution_count": 33,
      "outputs": []
    },
    {
      "cell_type": "code",
      "metadata": {
        "id": "gpUkVA3301h3"
      },
      "source": [
        "total = tmp.sum()"
      ],
      "execution_count": 34,
      "outputs": []
    },
    {
      "cell_type": "code",
      "metadata": {
        "colab": {
          "base_uri": "https://localhost:8080/",
          "height": 316
        },
        "id": "B0YfEZSp2_gC",
        "outputId": "8d7a92e8-2bcb-48ed-eba5-04c5f3a70401"
      },
      "source": [
        "tmp[:35].plot(kind='bar')"
      ],
      "execution_count": 48,
      "outputs": [
        {
          "output_type": "execute_result",
          "data": {
            "text/plain": [
              "<matplotlib.axes._subplots.AxesSubplot at 0x7fc714e393d0>"
            ]
          },
          "metadata": {},
          "execution_count": 48
        },
        {
          "output_type": "display_data",
          "data": {
            "image/png": "[encoded data removed]",
            "text/plain": [
              "<Figure size 432x288 with 1 Axes>"
            ]
          },
          "metadata": {
            "needs_background": "light"
          }
        }
      ]
    },
    {
      "cell_type": "code",
      "metadata": {
        "colab": {
          "base_uri": "https://localhost:8080/"
        },
        "id": "h1BRiLP72bsB",
        "outputId": "5bffbb0d-8858-4b70-f7d7-e0b0e9e003a0"
      },
      "source": [
        "print(tmp[:35] / total)\n",
        "print((tmp[:35] / total).sum())"
      ],
      "execution_count": 47,
      "outputs": [
        {
          "output_type": "stream",
          "name": "stdout",
          "text": [
            "$150.00    0.032272\n",
            "$65.00     0.027243\n",
            "$75.00     0.025269\n",
            "$100.00    0.024103\n",
            "$200.00    0.022279\n",
            "$70.00     0.021671\n",
            "$60.00     0.019829\n",
            "$80.00     0.019672\n",
            "$175.00    0.018506\n",
            "$250.00    0.017752\n",
            "$125.00    0.015008\n",
            "$85.00     0.014924\n",
            "$99.00     0.014122\n",
            "$199.00    0.013528\n",
            "$300.00    0.013125\n",
            "$90.00     0.012680\n",
            "$225.00    0.011973\n",
            "$275.00    0.011903\n",
            "$120.00    0.011419\n",
            "$299.00    0.011341\n",
            "$349.00    0.011231\n",
            "$55.00     0.011076\n",
            "$110.00    0.010881\n",
            "$249.00    0.010051\n",
            "$135.00    0.009990\n",
            "$160.00    0.009695\n",
            "$500.00    0.009584\n",
            "$130.00    0.009584\n",
            "$95.00     0.008984\n",
            "$350.00    0.008808\n",
            "$79.00     0.008404\n",
            "$155.00    0.008105\n",
            "$45.00     0.007507\n",
            "$50.00     0.007102\n",
            "$165.00    0.007070\n",
            "Name: price, dtype: float64\n",
            "0.49669148120559165\n"
          ]
        }
      ]
    },
    {
      "cell_type": "markdown",
      "metadata": {
        "id": "M1vry9BRz8Ic"
      },
      "source": [
        "  - price has 665,853 empty rows ( almost 1/2 of whole data )\n",
        "  - price is Nan when room is not available\n",
        "  - price range is various and rates look similar\n",
        "  - from \\$45 to \\$500"
      ]
    },
    {
      "cell_type": "markdown",
      "metadata": {
        "id": "JCkJ0dcA6suv"
      },
      "source": [
        "### Listing"
      ]
    },
    {
      "cell_type": "code",
      "metadata": {
        "colab": {
          "base_uri": "https://localhost:8080/"
        },
        "id": "rE3zR-HU4RDz",
        "outputId": "2c6b7475-d53e-4f35-b695-6f9b9185a7c3"
      },
      "source": [
        "# listing\n",
        "print(bt_list_df.shape)\n",
        "print(bt_list_df.columns)\n",
        "print(len(bt_list_df.columns.tolist()))"
      ],
      "execution_count": 53,
      "outputs": [
        {
          "output_type": "stream",
          "name": "stdout",
          "text": [
            "(3585, 95)\n",
            "Index(['id', 'listing_url', 'scrape_id', 'last_scraped', 'name', 'summary',\n",
            "       'space', 'description', 'experiences_offered', 'neighborhood_overview',\n",
            "       'notes', 'transit', 'access', 'interaction', 'house_rules',\n",
            "       'thumbnail_url', 'medium_url', 'picture_url', 'xl_picture_url',\n",
            "       'host_id', 'host_url', 'host_name', 'host_since', 'host_location',\n",
            "       'host_about', 'host_response_time', 'host_response_rate',\n",
            "       'host_acceptance_rate', 'host_is_superhost', 'host_thumbnail_url',\n",
            "       'host_picture_url', 'host_neighbourhood', 'host_listings_count',\n",
            "       'host_total_listings_count', 'host_verifications',\n",
            "       'host_has_profile_pic', 'host_identity_verified', 'street',\n",
            "       'neighbourhood', 'neighbourhood_cleansed',\n",
            "       'neighbourhood_group_cleansed', 'city', 'state', 'zipcode', 'market',\n",
            "       'smart_location', 'country_code', 'country', 'latitude', 'longitude',\n",
            "       'is_location_exact', 'property_type', 'room_type', 'accommodates',\n",
            "       'bathrooms', 'bedrooms', 'beds', 'bed_type', 'amenities', 'square_feet',\n",
            "       'price', 'weekly_price', 'monthly_price', 'security_deposit',\n",
            "       'cleaning_fee', 'guests_included', 'extra_people', 'minimum_nights',\n",
            "       'maximum_nights', 'calendar_updated', 'has_availability',\n",
            "       'availability_30', 'availability_60', 'availability_90',\n",
            "       'availability_365', 'calendar_last_scraped', 'number_of_reviews',\n",
            "       'first_review', 'last_review', 'review_scores_rating',\n",
            "       'review_scores_accuracy', 'review_scores_cleanliness',\n",
            "       'review_scores_checkin', 'review_scores_communication',\n",
            "       'review_scores_location', 'review_scores_value', 'requires_license',\n",
            "       'license', 'jurisdiction_names', 'instant_bookable',\n",
            "       'cancellation_policy', 'require_guest_profile_picture',\n",
            "       'require_guest_phone_verification', 'calculated_host_listings_count',\n",
            "       'reviews_per_month'],\n",
            "      dtype='object')\n",
            "95\n"
          ]
        }
      ]
    },
    {
      "cell_type": "code",
      "metadata": {
        "colab": {
          "base_uri": "https://localhost:8080/"
        },
        "id": "zUsQWheD4oXZ",
        "outputId": "427979f8-f980-4808-8ac7-74ad27a9ad64"
      },
      "source": [
        "bt_list_df.isnull().sum().to_dict()"
      ],
      "execution_count": 58,
      "outputs": [
        {
          "output_type": "execute_result",
          "data": {
            "text/plain": [
              "{'access': 1489,\n",
              " 'accommodates': 0,\n",
              " 'amenities': 0,\n",
              " 'availability_30': 0,\n",
              " 'availability_365': 0,\n",
              " 'availability_60': 0,\n",
              " 'availability_90': 0,\n",
              " 'bathrooms': 14,\n",
              " 'bed_type': 0,\n",
              " 'bedrooms': 10,\n",
              " 'beds': 9,\n",
              " 'calculated_host_listings_count': 0,\n",
              " 'calendar_last_scraped': 0,\n",
              " 'calendar_updated': 0,\n",
              " 'cancellation_policy': 0,\n",
              " 'city': 2,\n",
              " 'cleaning_fee': 1107,\n",
              " 'country': 0,\n",
              " 'country_code': 0,\n",
              " 'description': 0,\n",
              " 'experiences_offered': 0,\n",
              " 'extra_people': 0,\n",
              " 'first_review': 756,\n",
              " 'guests_included': 0,\n",
              " 'has_availability': 3585,\n",
              " 'host_about': 1309,\n",
              " 'host_acceptance_rate': 471,\n",
              " 'host_has_profile_pic': 0,\n",
              " 'host_id': 0,\n",
              " 'host_identity_verified': 0,\n",
              " 'host_is_superhost': 0,\n",
              " 'host_listings_count': 0,\n",
              " 'host_location': 11,\n",
              " 'host_name': 0,\n",
              " 'host_neighbourhood': 339,\n",
              " 'host_picture_url': 0,\n",
              " 'host_response_rate': 471,\n",
              " 'host_response_time': 471,\n",
              " 'host_since': 0,\n",
              " 'host_thumbnail_url': 0,\n",
              " 'host_total_listings_count': 0,\n",
              " 'host_url': 0,\n",
              " 'host_verifications': 0,\n",
              " 'house_rules': 1192,\n",
              " 'id': 0,\n",
              " 'instant_bookable': 0,\n",
              " 'interaction': 1554,\n",
              " 'is_location_exact': 0,\n",
              " 'jurisdiction_names': 3585,\n",
              " 'last_review': 756,\n",
              " 'last_scraped': 0,\n",
              " 'latitude': 0,\n",
              " 'license': 3585,\n",
              " 'listing_url': 0,\n",
              " 'longitude': 0,\n",
              " 'market': 14,\n",
              " 'maximum_nights': 0,\n",
              " 'medium_url': 599,\n",
              " 'minimum_nights': 0,\n",
              " 'monthly_price': 2697,\n",
              " 'name': 0,\n",
              " 'neighborhood_overview': 1415,\n",
              " 'neighbourhood': 543,\n",
              " 'neighbourhood_cleansed': 0,\n",
              " 'neighbourhood_group_cleansed': 3585,\n",
              " 'notes': 1975,\n",
              " 'number_of_reviews': 0,\n",
              " 'picture_url': 0,\n",
              " 'price': 0,\n",
              " 'property_type': 3,\n",
              " 'require_guest_phone_verification': 0,\n",
              " 'require_guest_profile_picture': 0,\n",
              " 'requires_license': 0,\n",
              " 'review_scores_accuracy': 823,\n",
              " 'review_scores_checkin': 820,\n",
              " 'review_scores_cleanliness': 818,\n",
              " 'review_scores_communication': 818,\n",
              " 'review_scores_location': 822,\n",
              " 'review_scores_rating': 813,\n",
              " 'review_scores_value': 821,\n",
              " 'reviews_per_month': 756,\n",
              " 'room_type': 0,\n",
              " 'scrape_id': 0,\n",
              " 'security_deposit': 2243,\n",
              " 'smart_location': 0,\n",
              " 'space': 1057,\n",
              " 'square_feet': 3529,\n",
              " 'state': 0,\n",
              " 'street': 0,\n",
              " 'summary': 143,\n",
              " 'thumbnail_url': 599,\n",
              " 'transit': 1290,\n",
              " 'weekly_price': 2693,\n",
              " 'xl_picture_url': 599,\n",
              " 'zipcode': 38}"
            ]
          },
          "metadata": {},
          "execution_count": 58
        }
      ]
    },
    {
      "cell_type": "code",
      "metadata": {
        "colab": {
          "base_uri": "https://localhost:8080/"
        },
        "id": "JING6NOk4h_j",
        "outputId": "dfb4430f-2673-4c39-ac7d-812bf1cbd5a9"
      },
      "source": [
        "bt_list_df.iloc[0].to_dict()"
      ],
      "execution_count": 59,
      "outputs": [
        {
          "output_type": "execute_result",
          "data": {
            "text/plain": [
              "{'access': 'You will have access to 2 bedrooms, a living room, kitchen, bathrooms, and yard.',\n",
              " 'accommodates': 4,\n",
              " 'amenities': '{TV,\"Wireless Internet\",Kitchen,\"Free Parking on Premises\",\"Pets live on this property\",Dog(s),Heating,\"Family/Kid Friendly\",Washer,Dryer,\"Smoke Detector\",\"Fire Extinguisher\",Essentials,Shampoo,\"Laptop Friendly Workspace\"}',\n",
              " 'availability_30': 0,\n",
              " 'availability_365': 0,\n",
              " 'availability_60': 0,\n",
              " 'availability_90': 0,\n",
              " 'bathrooms': 1.5,\n",
              " 'bed_type': 'Real Bed',\n",
              " 'bedrooms': 2.0,\n",
              " 'beds': 3.0,\n",
              " 'calculated_host_listings_count': 1,\n",
              " 'calendar_last_scraped': '2016-09-06',\n",
              " 'calendar_updated': '2 weeks ago',\n",
              " 'cancellation_policy': 'moderate',\n",
              " 'city': 'Boston',\n",
              " 'cleaning_fee': '$35.00',\n",
              " 'country': 'United States',\n",
              " 'country_code': 'US',\n",
              " 'description': \"Cozy, sunny, family home.  Master bedroom high ceilings. Deck, garden with hens, beehives & play structure.   Short walk to charming village with  attractive stores, groceries & local restaurants. Friendly neighborhood. Access public transportation. The house has an open and cozy feel at the same time.  The living room has a flat screen TV.  The kitchen has all you need for cooking.  We prefer you buy your food but can use the organic oils, herbs, etc.   The yard can be seen from sitting room and when the weather allows, the yard is a place children can lose themselves in a safe way.  We have 2 bee hives, 6 hens fenced in (sometimes they get out of their coop area & into the yard), 2 rabbits in a hutch and play structure. You will have access to 2 bedrooms, a living room, kitchen, bathrooms, and yard. Roslindale is quiet, convenient and friendly.  For Southern food try Redd's in Rozzie.  Italian Delfino's or Sophia's Grotto are great. Birch St Bistro has nice atmostphere--a little pric\",\n",
              " 'experiences_offered': 'none',\n",
              " 'extra_people': '$0.00',\n",
              " 'first_review': nan,\n",
              " 'guests_included': 1,\n",
              " 'has_availability': nan,\n",
              " 'host_about': 'We are country and city connecting in our deck and garden. Enjoy our music room, books and flat screen TV with the pastoral backyard of hens, bees, rabbits and an organic garden.  ',\n",
              " 'host_acceptance_rate': nan,\n",
              " 'host_has_profile_pic': 't',\n",
              " 'host_id': 31303940,\n",
              " 'host_identity_verified': 'f',\n",
              " 'host_is_superhost': 'f',\n",
              " 'host_listings_count': 1,\n",
              " 'host_location': 'Boston, Massachusetts, United States',\n",
              " 'host_name': 'Virginia',\n",
              " 'host_neighbourhood': 'Roslindale',\n",
              " 'host_picture_url': 'https://a2.muscache.com/im/pictures/5936fef0-ba16-45bd-ac33-9226137d0763.jpg?aki_policy=profile_x_medium',\n",
              " 'host_response_rate': nan,\n",
              " 'host_response_time': nan,\n",
              " 'host_since': '2015-04-15',\n",
              " 'host_thumbnail_url': 'https://a2.muscache.com/im/pictures/5936fef0-ba16-45bd-ac33-9226137d0763.jpg?aki_policy=profile_small',\n",
              " 'host_total_listings_count': 1,\n",
              " 'host_url': 'https://www.airbnb.com/users/show/31303940',\n",
              " 'host_verifications': \"['email', 'phone', 'facebook', 'reviews']\",\n",
              " 'house_rules': \"Clean up and treat the home the way you'd like your home to be treated.  No smoking.\",\n",
              " 'id': 12147973,\n",
              " 'instant_bookable': 'f',\n",
              " 'interaction': nan,\n",
              " 'is_location_exact': 't',\n",
              " 'jurisdiction_names': nan,\n",
              " 'last_review': nan,\n",
              " 'last_scraped': '2016-09-07',\n",
              " 'latitude': 42.28261879577949,\n",
              " 'license': nan,\n",
              " 'listing_url': 'https://www.airbnb.com/rooms/12147973',\n",
              " 'longitude': -71.13306792912681,\n",
              " 'market': 'Boston',\n",
              " 'maximum_nights': 1125,\n",
              " 'medium_url': 'https://a2.muscache.com/im/pictures/c0842db1-ee98-4fe8-870b-d1e2af33855d.jpg?aki_policy=medium',\n",
              " 'minimum_nights': 2,\n",
              " 'monthly_price': nan,\n",
              " 'name': 'Sunny Bungalow in the City',\n",
              " 'neighborhood_overview': \"Roslindale is quiet, convenient and friendly.  For Southern food try Redd's in Rozzie.  Italian Delfino's or Sophia's Grotto are great. Birch St Bistro has nice atmostphere--a little pricier.   If you are cooking the Fish Market has fresh fish daily; Tony's makes his own sausages and has Italian foods;  for  a wide variety of delicious cheeses and chocolates go to the Cheese Cellar on Birch St.\",\n",
              " 'neighbourhood': 'Roslindale',\n",
              " 'neighbourhood_cleansed': 'Roslindale',\n",
              " 'neighbourhood_group_cleansed': nan,\n",
              " 'notes': nan,\n",
              " 'number_of_reviews': 0,\n",
              " 'picture_url': 'https://a2.muscache.com/im/pictures/c0842db1-ee98-4fe8-870b-d1e2af33855d.jpg?aki_policy=large',\n",
              " 'price': '$250.00',\n",
              " 'property_type': 'House',\n",
              " 'require_guest_phone_verification': 'f',\n",
              " 'require_guest_profile_picture': 'f',\n",
              " 'requires_license': 'f',\n",
              " 'review_scores_accuracy': nan,\n",
              " 'review_scores_checkin': nan,\n",
              " 'review_scores_cleanliness': nan,\n",
              " 'review_scores_communication': nan,\n",
              " 'review_scores_location': nan,\n",
              " 'review_scores_rating': nan,\n",
              " 'review_scores_value': nan,\n",
              " 'reviews_per_month': nan,\n",
              " 'room_type': 'Entire home/apt',\n",
              " 'scrape_id': 20160906204935,\n",
              " 'security_deposit': nan,\n",
              " 'smart_location': 'Boston, MA',\n",
              " 'space': 'The house has an open and cozy feel at the same time.  The living room has a flat screen TV.  The kitchen has all you need for cooking.  We prefer you buy your food but can use the organic oils, herbs, etc.   The yard can be seen from sitting room and when the weather allows, the yard is a place children can lose themselves in a safe way.  We have 2 bee hives, 6 hens fenced in (sometimes they get out of their coop area & into the yard), 2 rabbits in a hutch and play structure.',\n",
              " 'square_feet': nan,\n",
              " 'state': 'MA',\n",
              " 'street': 'Birch Street, Boston, MA 02131, United States',\n",
              " 'summary': 'Cozy, sunny, family home.  Master bedroom high ceilings. Deck, garden with hens, beehives & play structure.   Short walk to charming village with  attractive stores, groceries & local restaurants. Friendly neighborhood. Access public transportation.',\n",
              " 'thumbnail_url': 'https://a2.muscache.com/im/pictures/c0842db1-ee98-4fe8-870b-d1e2af33855d.jpg?aki_policy=small',\n",
              " 'transit': 'The bus stop is 2 blocks away, and frequent. Bus is about a 10 minute ride to the Orange line, forest hills. The commuter rail into down town is a 6 minute walk from our home.  Walking is pleasant and restaurants, shops and grocery store are all a 6 minute walk away.',\n",
              " 'weekly_price': nan,\n",
              " 'xl_picture_url': 'https://a2.muscache.com/im/pictures/c0842db1-ee98-4fe8-870b-d1e2af33855d.jpg?aki_policy=x_large',\n",
              " 'zipcode': '02131'}"
            ]
          },
          "metadata": {},
          "execution_count": 59
        }
      ]
    },
    {
      "cell_type": "markdown",
      "metadata": {
        "id": "WDiKmkpa4c9P"
      },
      "source": [
        "- 3585 accommodations are on the list\n",
        "- 95 columns describe accommodation\n",
        "- Many fields have lots of nan rows"
      ]
    },
    {
      "cell_type": "markdown",
      "metadata": {
        "id": "dmc0ylFe6YxU"
      },
      "source": [
        "# 3. Data wrangle and clean to check Hypothesis"
      ]
    },
    {
      "cell_type": "markdown",
      "metadata": {
        "id": "KWb9c0b0SWQV"
      },
      "source": [
        "## Busy Season\n",
        " - Hypothesis: data which available is f may be gathered in specific date range"
      ]
    },
    {
      "cell_type": "code",
      "metadata": {
        "id": "UchXOb1kTKxm"
      },
      "source": [
        "# change data type\n",
        "bt_cal_df['date'] = pd.to_datetime(bt_cal_df['date'])"
      ],
      "execution_count": 60,
      "outputs": []
    },
    {
      "cell_type": "code",
      "metadata": {
        "colab": {
          "base_uri": "https://localhost:8080/"
        },
        "id": "JSqcBY1eM9yb",
        "outputId": "d80fdd73-7edc-49ee-b436-80800c400abf"
      },
      "source": [
        "# Check rate\n",
        "bt_cal_df.available.value_counts()"
      ],
      "execution_count": 61,
      "outputs": [
        {
          "output_type": "execute_result",
          "data": {
            "text/plain": [
              "f    665853\n",
              "t    643037\n",
              "Name: available, dtype: int64"
            ]
          },
          "metadata": {},
          "execution_count": 61
        }
      ]
    },
    {
      "cell_type": "code",
      "metadata": {
        "id": "iFbWi6VGpjV9"
      },
      "source": [
        "total_count_per_date = bt_cal_df.date.value_counts().sort_index()"
      ],
      "execution_count": null,
      "outputs": []
    },
    {
      "cell_type": "code",
      "metadata": {
        "colab": {
          "base_uri": "https://localhost:8080/",
          "height": 313
        },
        "id": "97t4kKCZqKBi",
        "outputId": "b3e54001-f360-49b0-a5ff-26f092d96f11"
      },
      "source": [
        "plt.plot(total_count_per_date.index, total_count_per_date.values)\n",
        "plt.xticks(rotation=90)\n",
        "plt.title('total accomodation in 2016~2017')\n",
        "plt.show()"
      ],
      "execution_count": null,
      "outputs": [
        {
          "output_type": "display_data",
          "data": {
            "image/png": "[encoded data removed]",
            "text/plain": [
              "<Figure size 432x288 with 1 Axes>"
            ]
          },
          "metadata": {
            "tags": [],
            "needs_background": "light"
          }
        }
      ]
    },
    {
      "cell_type": "markdown",
      "metadata": {
        "id": "WnCcQFOArSr_"
      },
      "source": [
        " - number of total accomodation was same, 3586\n",
        " - but"
      ]
    },
    {
      "cell_type": "code",
      "metadata": {
        "id": "wLbnFn-JWZ-1"
      },
      "source": [
        "reserved_accoms = bt_cal_df[bt_cal_df.available == \"f\"]"
      ],
      "execution_count": null,
      "outputs": []
    },
    {
      "cell_type": "code",
      "metadata": {
        "colab": {
          "base_uri": "https://localhost:8080/",
          "height": 194
        },
        "id": "Rr5mJVT0X99c",
        "outputId": "708869f6-bac5-46c8-8924-d232d8684aba"
      },
      "source": [
        "reserved_accoms.head()"
      ],
      "execution_count": null,
      "outputs": [
        {
          "output_type": "execute_result",
          "data": {
            "text/html": [
              "<div>\n",
              "<style scoped>\n",
              "    .dataframe tbody tr th:only-of-type {\n",
              "        vertical-align: middle;\n",
              "    }\n",
              "\n",
              "    .dataframe tbody tr th {\n",
              "        vertical-align: top;\n",
              "    }\n",
              "\n",
              "    .dataframe thead th {\n",
              "        text-align: right;\n",
              "    }\n",
              "</style>\n",
              "<table border=\"1\" class=\"dataframe\">\n",
              "  <thead>\n",
              "    <tr style=\"text-align: right;\">\n",
              "      <th></th>\n",
              "      <th>listing_id</th>\n",
              "      <th>date</th>\n",
              "      <th>available</th>\n",
              "      <th>price</th>\n",
              "    </tr>\n",
              "  </thead>\n",
              "  <tbody>\n",
              "    <tr>\n",
              "      <th>0</th>\n",
              "      <td>12147973</td>\n",
              "      <td>2017-09-05</td>\n",
              "      <td>f</td>\n",
              "      <td>NaN</td>\n",
              "    </tr>\n",
              "    <tr>\n",
              "      <th>1</th>\n",
              "      <td>12147973</td>\n",
              "      <td>2017-09-04</td>\n",
              "      <td>f</td>\n",
              "      <td>NaN</td>\n",
              "    </tr>\n",
              "    <tr>\n",
              "      <th>2</th>\n",
              "      <td>12147973</td>\n",
              "      <td>2017-09-03</td>\n",
              "      <td>f</td>\n",
              "      <td>NaN</td>\n",
              "    </tr>\n",
              "    <tr>\n",
              "      <th>3</th>\n",
              "      <td>12147973</td>\n",
              "      <td>2017-09-02</td>\n",
              "      <td>f</td>\n",
              "      <td>NaN</td>\n",
              "    </tr>\n",
              "    <tr>\n",
              "      <th>4</th>\n",
              "      <td>12147973</td>\n",
              "      <td>2017-09-01</td>\n",
              "      <td>f</td>\n",
              "      <td>NaN</td>\n",
              "    </tr>\n",
              "  </tbody>\n",
              "</table>\n",
              "</div>"
            ],
            "text/plain": [
              "   listing_id       date available price\n",
              "0    12147973 2017-09-05         f   NaN\n",
              "1    12147973 2017-09-04         f   NaN\n",
              "2    12147973 2017-09-03         f   NaN\n",
              "3    12147973 2017-09-02         f   NaN\n",
              "4    12147973 2017-09-01         f   NaN"
            ]
          },
          "metadata": {
            "tags": []
          },
          "execution_count": 17
        }
      ]
    },
    {
      "cell_type": "code",
      "metadata": {
        "id": "cUAhEdD_VbrI"
      },
      "source": [
        "count_per_date = reserved_accoms.date.value_counts().sort_index()\n",
        "# count_per_date_2016 = count_per_date[count_per_date.index < pd.Timestamp(2017,1,1)]\n",
        "# count_per_date_2017 = count_per_date[count_per_date.index > pd.Timestamp(2016,12,31)]"
      ],
      "execution_count": null,
      "outputs": []
    },
    {
      "cell_type": "code",
      "metadata": {
        "colab": {
          "base_uri": "https://localhost:8080/",
          "height": 313
        },
        "id": "OIaYD6MJOA91",
        "outputId": "a06d3b19-da56-4a00-9e6e-a71cc8041fd6"
      },
      "source": [
        "plt.plot(count_per_date.index, count_per_date.values)\n",
        "plt.xticks(rotation=90)\n",
        "plt.title('Reserved count in 2016~2017')\n",
        "plt.show()"
      ],
      "execution_count": null,
      "outputs": [
        {
          "output_type": "display_data",
          "data": {
            "image/png": "[encoded data removed]",
            "text/plain": [
              "<Figure size 432x288 with 1 Axes>"
            ]
          },
          "metadata": {
            "tags": [],
            "needs_background": "light"
          }
        }
      ]
    },
    {
      "cell_type": "markdown",
      "metadata": {
        "id": "g7fiLa61sUSX"
      },
      "source": [
        " - decreasing reserved count = increasing available rooms\n",
        " - why?? "
      ]
    },
    {
      "cell_type": "markdown",
      "metadata": {
        "id": "tliNZy8s3ubF"
      },
      "source": [
        " - hard to find season *pattern*\n",
        " - as a result, ***it is difficult to expect people make a reservation in specific season***"
      ]
    },
    {
      "cell_type": "markdown",
      "metadata": {
        "id": "ms0irLc6UZFK"
      },
      "source": [
        "## Popularity of location\n",
        "  - Hypothesis: several locations are preferred to stay"
      ]
    },
    {
      "cell_type": "code",
      "metadata": {
        "id": "rg8VuegcuukI"
      },
      "source": [
        "count_listing_ids = reserved_accoms.listing_id.value_counts()"
      ],
      "execution_count": null,
      "outputs": []
    },
    {
      "cell_type": "code",
      "metadata": {
        "id": "8IzJK_R8vIqL"
      },
      "source": [
        "add_listing_count = pd.merge(bt_list_df, count_listing_ids, left_on='id', right_index=True)"
      ],
      "execution_count": null,
      "outputs": []
    },
    {
      "cell_type": "code",
      "metadata": {
        "colab": {
          "base_uri": "https://localhost:8080/"
        },
        "id": "HQXRMnUnyIWT",
        "outputId": "5a5d9cf6-3b08-4119-86a7-7d184bcdebd6"
      },
      "source": [
        "add_listing_count.neighbourhood.nunique()"
      ],
      "execution_count": null,
      "outputs": [
        {
          "output_type": "execute_result",
          "data": {
            "text/plain": [
              "30"
            ]
          },
          "metadata": {
            "tags": []
          },
          "execution_count": 25
        }
      ]
    },
    {
      "cell_type": "code",
      "metadata": {
        "colab": {
          "base_uri": "https://localhost:8080/",
          "height": 386
        },
        "id": "DGfUBh9ayOVu",
        "outputId": "2b050c08-849c-445e-93ca-8036f11681f9"
      },
      "source": [
        "add_listing_count.groupby('neighbourhood').listing_id.agg('sum').sort_values(ascending=False).plot(kind='bar')"
      ],
      "execution_count": null,
      "outputs": [
        {
          "output_type": "execute_result",
          "data": {
            "text/plain": [
              "<matplotlib.axes._subplots.AxesSubplot at 0x7f86bfe00190>"
            ]
          },
          "metadata": {
            "tags": []
          },
          "execution_count": 26
        },
        {
          "output_type": "display_data",
          "data": {
            "image/png": "[encoded data removed]",
            "text/plain": [
              "<Figure size 432x288 with 1 Axes>"
            ]
          },
          "metadata": {
            "tags": [],
            "needs_background": "light"
          }
        }
      ]
    },
    {
      "cell_type": "markdown",
      "metadata": {
        "id": "4lw9wYf-xdZ2"
      },
      "source": [
        "\n",
        " - \"Allston-Brighton\" is the most popular case to accomodate\n",
        " - There are places people prefered to accomodate"
      ]
    },
    {
      "cell_type": "markdown",
      "metadata": {
        "id": "rVoHkM02a1_M"
      },
      "source": [
        "## Preferred price pattern\n",
        "\n",
        "*   the data ,\"available\" field is \"f\", has no price\n",
        "* assume that data may have similar price\n"
      ]
    },
    {
      "cell_type": "code",
      "metadata": {
        "id": "AtqCh7Si8W3o"
      },
      "source": [
        "date_price = bt_cal_df.dropna(subset=['price'])"
      ],
      "execution_count": 62,
      "outputs": []
    },
    {
      "cell_type": "markdown",
      "metadata": {
        "id": "NGKV73sB8j8O"
      },
      "source": [
        "  - About half of accommodations are not available, so it is difficult to know the price\n",
        "  - Above cell in Calender below Explore, top N price are not much higher\n",
        "  - Based on this reason, assume that unavailable accommodation would have similar price if they could be available "
      ]
    },
    {
      "cell_type": "code",
      "metadata": {
        "colab": {
          "base_uri": "https://localhost:8080/"
        },
        "id": "hpKeMZamLFug",
        "outputId": "704ef208-4ec5-4f44-a510-0143bfccf692"
      },
      "source": [
        "date_price['price'] = date_price.price.apply(lambda x: float(x.replace('$', '').replace(',', '')))\n",
        "date_price['date'] = pd.to_datetime(date_price['date'])"
      ],
      "execution_count": null,
      "outputs": [
        {
          "output_type": "stream",
          "text": [
            "/usr/local/lib/python3.7/dist-packages/ipykernel_launcher.py:2: SettingWithCopyWarning: \n",
            "A value is trying to be set on a copy of a slice from a DataFrame.\n",
            "Try using .loc[row_indexer,col_indexer] = value instead\n",
            "\n",
            "See the caveats in the documentation: https://pandas.pydata.org/pandas-docs/stable/user_guide/indexing.html#returning-a-view-versus-a-copy\n",
            "  \n",
            "/usr/local/lib/python3.7/dist-packages/ipykernel_launcher.py:3: SettingWithCopyWarning: \n",
            "A value is trying to be set on a copy of a slice from a DataFrame.\n",
            "Try using .loc[row_indexer,col_indexer] = value instead\n",
            "\n",
            "See the caveats in the documentation: https://pandas.pydata.org/pandas-docs/stable/user_guide/indexing.html#returning-a-view-versus-a-copy\n",
            "  This is separate from the ipykernel package so we can avoid doing imports until\n"
          ],
          "name": "stderr"
        }
      ]
    },
    {
      "cell_type": "code",
      "metadata": {
        "colab": {
          "base_uri": "https://localhost:8080/",
          "height": 279
        },
        "id": "cym6GtZKeGnM",
        "outputId": "7b78874d-936e-48af-f3cf-148d5c7bd3eb"
      },
      "source": [
        "fig, ax = plt.subplots()\n",
        "tmp_df = date_price.groupby('date')['price'].agg('mean').reset_index()\n",
        "ax.plot(tmp_df['date'], tmp_df['price'])\n",
        "ax.set_xlabel('date')\n",
        "ax.set_ylabel('average price')\n",
        "\n",
        "ax2 = ax.twinx()\n",
        "ax2.plot(count_per_date.index, count_per_date.values, color='red')\n",
        "ax2.set_ylabel('reservation count', color='red')\n",
        "plt.show()"
      ],
      "execution_count": null,
      "outputs": [
        {
          "output_type": "display_data",
          "data": {
            "image/png": "[encoded data removed]",
            "text/plain": [
              "<Figure size 432x288 with 2 Axes>"
            ]
          },
          "metadata": {
            "tags": [],
            "needs_background": "light"
          }
        }
      ]
    },
    {
      "cell_type": "markdown",
      "metadata": {
        "id": "_uj98C0DR5wb"
      },
      "source": [
        " - Although we don't know why some accommodations are unavailable, assume that those accommodation are resereved\n",
        " - It is hard to see pattern both price and reserevation"
      ]
    },
    {
      "cell_type": "code",
      "metadata": {
        "colab": {
          "base_uri": "https://localhost:8080/",
          "height": 279
        },
        "id": "GNg3B02hOqNE",
        "outputId": "e4a8c1e3-3124-44d1-ccd7-569f9208782d"
      },
      "source": [
        "fig, ax = plt.subplots()\n",
        "tmp_df = date_price.groupby('date')['price'].agg('sum').reset_index()\n",
        "ax.plot(tmp_df['date'], tmp_df['price'])\n",
        "ax.set_xlabel('date')\n",
        "ax.set_ylabel('total price')\n",
        "\n",
        "ax2 = ax.twinx()\n",
        "ax2.plot(count_per_date.index, count_per_date.values, color='red')\n",
        "ax2.set_ylabel('reservation count', color='red')\n",
        "plt.show()"
      ],
      "execution_count": null,
      "outputs": [
        {
          "output_type": "display_data",
          "data": {
            "image/png": "[encoded data removed]",
            "text/plain": [
              "<Figure size 432x288 with 2 Axes>"
            ]
          },
          "metadata": {
            "tags": [],
            "needs_background": "light"
          }
        }
      ]
    },
    {
      "cell_type": "code",
      "metadata": {
        "colab": {
          "base_uri": "https://localhost:8080/",
          "height": 308
        },
        "id": "DzCtWaClQSSZ",
        "outputId": "22757f04-448b-459e-f6c6-0cc98ce60397"
      },
      "source": [
        "ax = date_price.groupby('date')['listing_id'].agg('count').reset_index().plot('date', 'listing_id')\n",
        "ax.set_ylabel('listing_id count')"
      ],
      "execution_count": null,
      "outputs": [
        {
          "output_type": "execute_result",
          "data": {
            "text/plain": [
              "Text(0, 0.5, 'listing_id count')"
            ]
          },
          "metadata": {
            "tags": []
          },
          "execution_count": 42
        },
        {
          "output_type": "display_data",
          "data": {
            "image/png": "[encoded data removed]",
            "text/plain": [
              "<Figure size 432x288 with 1 Axes>"
            ]
          },
          "metadata": {
            "tags": [],
            "needs_background": "light"
          }
        }
      ]
    },
    {
      "cell_type": "markdown",
      "metadata": {
        "id": "yhY6tMnHQRmJ"
      },
      "source": [
        " - Although total accomodation number is same, reserved number has decreased.\n",
        " - but price has increased ?!\n",
        " - accomodation number was increased when the price is decrased"
      ]
    },
    {
      "cell_type": "markdown",
      "metadata": {
        "id": "a4YDgedwDeBn"
      },
      "source": [
        "### Price per Weekday"
      ]
    },
    {
      "cell_type": "code",
      "metadata": {
        "colab": {
          "base_uri": "https://localhost:8080/"
        },
        "id": "a4U2x9yFuHF_",
        "outputId": "d8b5fb69-4caa-4ccc-e56b-647a434f8c71"
      },
      "source": [
        "date_price['weekday'] = date_price['date'].dt.day_name()\n",
        "bt_cal_df['weekday'] = bt_cal_df['date'].dt.day_name()"
      ],
      "execution_count": null,
      "outputs": [
        {
          "output_type": "stream",
          "text": [
            "/usr/local/lib/python3.7/dist-packages/ipykernel_launcher.py:1: SettingWithCopyWarning: \n",
            "A value is trying to be set on a copy of a slice from a DataFrame.\n",
            "Try using .loc[row_indexer,col_indexer] = value instead\n",
            "\n",
            "See the caveats in the documentation: https://pandas.pydata.org/pandas-docs/stable/user_guide/indexing.html#returning-a-view-versus-a-copy\n",
            "  \"\"\"Entry point for launching an IPython kernel.\n"
          ],
          "name": "stderr"
        }
      ]
    },
    {
      "cell_type": "code",
      "metadata": {
        "id": "_JOinmMJ8aSE"
      },
      "source": [
        "weekday_cnt = bt_cal_df.groupby('weekday').listing_id.agg('count').to_dict()"
      ],
      "execution_count": null,
      "outputs": []
    },
    {
      "cell_type": "code",
      "metadata": {
        "colab": {
          "base_uri": "https://localhost:8080/",
          "height": 483
        },
        "id": "_AqV4u845oHe",
        "outputId": "e6bb1cfe-d08a-4767-d603-ae52ae7070f9"
      },
      "source": [
        "plt.figure(figsize=(15, 8))\n",
        "\n",
        "order = [\"Monday\", \"Tuesday\", \"Wednesday\", \"Thursday\", \"Friday\", \"Saturday\", \"Sunday\"]\n",
        "mapping = {day: i for i, day in enumerate(order)}\n",
        "key = bt_cal_df['weekday'].map(mapping)\n",
        "\n",
        "plt.plot(order, [weekday_cnt[weekday] for weekday in order])\n",
        "# sns.boxplot(x='weekday', y='count', data=bt_cal_df, width=0.6, order=order)\n",
        "plt.show()"
      ],
      "execution_count": null,
      "outputs": [
        {
          "output_type": "display_data",
          "data": {
            "image/png": "[encoded data removed]",
            "text/plain": [
              "<Figure size 1080x576 with 1 Axes>"
            ]
          },
          "metadata": {
            "tags": [],
            "needs_background": "light"
          }
        }
      ]
    },
    {
      "cell_type": "code",
      "metadata": {
        "colab": {
          "base_uri": "https://localhost:8080/",
          "height": 517
        },
        "id": "Gy_dF6vIamTI",
        "outputId": "71d5773a-3524-4c1d-b0e0-03948c209b00"
      },
      "source": [
        "# date_price['weekday'] = date_price['date'].dt.day_name()\n",
        "\n",
        "import seaborn as sns\n",
        "import matplotlib.pyplot as plt\n",
        "\n",
        "plt.figure(figsize=(15, 8))\n",
        "order = [\"Monday\", \"Tuesday\", \"Wednesday\", \"Thursday\", \"Friday\", \"Saturday\", \"Sunday\"]\n",
        "sns.boxplot(x='weekday', y='price', data=date_price, width=0.6, order=order)\n",
        "plt.show()"
      ],
      "execution_count": null,
      "outputs": [
        {
          "output_type": "display_data",
          "data": {
            "image/png": "[encoded data removed]",
            "text/plain": [
              "<Figure size 1080x576 with 1 Axes>"
            ]
          },
          "metadata": {
            "tags": [],
            "needs_background": "light"
          }
        }
      ]
    },
    {
      "cell_type": "markdown",
      "metadata": {
        "id": "CkhGBEdayenj"
      },
      "source": [
        "- hard to see price boxplot each weekday..."
      ]
    },
    {
      "cell_type": "code",
      "metadata": {
        "colab": {
          "base_uri": "https://localhost:8080/",
          "height": 1000
        },
        "id": "Of7adbklxYh_",
        "outputId": "904394f1-8c34-4fcc-e608-2e256fa11e05"
      },
      "source": [
        "order = [\"Monday\", \"Tuesday\", \"Wednesday\", \"Thursday\", \"Friday\", \"Saturday\", \"Sunday\"]\n",
        "for weekday in order:\n",
        "  date_price[date_price.weekday==weekday].hist(column=\"price\")\n",
        "  plt.title(weekday)\n",
        "  plt.show()"
      ],
      "execution_count": null,
      "outputs": [
        {
          "output_type": "display_data",
          "data": {
            "image/png": "[encoded data removed]",
            "text/plain": [
              "<Figure size 432x288 with 1 Axes>"
            ]
          },
          "metadata": {
            "tags": [],
            "needs_background": "light"
          }
        },
        {
          "output_type": "display_data",
          "data": {
            "image/png": "[encoded data removed]",
            "text/plain": [
              "<Figure size 432x288 with 1 Axes>"
            ]
          },
          "metadata": {
            "tags": [],
            "needs_background": "light"
          }
        },
        {
          "output_type": "display_data",
          "data": {
            "image/png": "[encoded data removed]",
            "text/plain": [
              "<Figure size 432x288 with 1 Axes>"
            ]
          },
          "metadata": {
            "tags": [],
            "needs_background": "light"
          }
        },
        {
          "output_type": "display_data",
          "data": {
            "image/png": "[encoded data removed]",
            "text/plain": [
              "<Figure size 432x288 with 1 Axes>"
            ]
          },
          "metadata": {
            "tags": [],
            "needs_background": "light"
          }
        },
        {
          "output_type": "display_data",
          "data": {
            "image/png": "[encoded data removed]",
            "text/plain": [
              "<Figure size 432x288 with 1 Axes>"
            ]
          },
          "metadata": {
            "tags": [],
            "needs_background": "light"
          }
        },
        {
          "output_type": "display_data",
          "data": {
            "image/png": "[encoded data removed]",
            "text/plain": [
              "<Figure size 432x288 with 1 Axes>"
            ]
          },
          "metadata": {
            "tags": [],
            "needs_background": "light"
          }
        },
        {
          "output_type": "display_data",
          "data": {
            "image/png": "[encoded data removed]",
            "text/plain": [
              "<Figure size 432x288 with 1 Axes>"
            ]
          },
          "metadata": {
            "tags": [],
            "needs_background": "light"
          }
        }
      ]
    },
    {
      "cell_type": "markdown",
      "metadata": {
        "id": "bw6D2XbOyNcC"
      },
      "source": [
        " - price range in each weekday was very similar"
      ]
    },
    {
      "cell_type": "markdown",
      "metadata": {
        "id": "xjzFdYo0yiJZ"
      },
      "source": [
        "---"
      ]
    },
    {
      "cell_type": "markdown",
      "metadata": {
        "id": "sQvVyIQ_z5iH"
      },
      "source": [
        "## Popular room type\n",
        "  - Hypothesis: People prefer specific room type\n",
        "    - Assume that available == 'f' means accommotaions are reserved"
      ]
    },
    {
      "cell_type": "code",
      "metadata": {
        "id": "9Qztd17VyNDO"
      },
      "source": [
        "df_w_room_type = pd.merge(bt_cal_df, bt_list_df.loc[:, ['id', 'room_type']], left_on='listing_id', right_on='id')"
      ],
      "execution_count": null,
      "outputs": []
    },
    {
      "cell_type": "code",
      "metadata": {
        "colab": {
          "base_uri": "https://localhost:8080/"
        },
        "id": "SYXpiHXZ2P_x",
        "outputId": "bb28e6a8-dbbc-497a-ed1c-583e069d6b64"
      },
      "source": [
        "df_w_room_type.room_type.unique()"
      ],
      "execution_count": null,
      "outputs": [
        {
          "output_type": "execute_result",
          "data": {
            "text/plain": [
              "array(['Entire home/apt', 'Private room', 'Shared room'], dtype=object)"
            ]
          },
          "metadata": {
            "tags": []
          },
          "execution_count": 45
        }
      ]
    },
    {
      "cell_type": "code",
      "metadata": {
        "colab": {
          "base_uri": "https://localhost:8080/",
          "height": 265
        },
        "id": "0fvDyKOl0l41",
        "outputId": "5bc0c4f2-dd9e-4d83-8f0f-00fe801b0a91"
      },
      "source": [
        "tmp = df_w_room_type[df_w_room_type.available == 'f'].groupby('room_type')\n",
        "tmp.get_group('Entire home/apt')['date'].hist(bins=30, label='Entire home/apt')\n",
        "tmp.get_group('Private room')['date'].hist(bins=30, label='Private room')\n",
        "tmp.get_group('Shared room')['date'].hist(bins=30, label='Shared room')\n",
        "plt.legend()\n",
        "plt.show()"
      ],
      "execution_count": null,
      "outputs": [
        {
          "output_type": "display_data",
          "data": {
            "image/png": "[encoded data removed]",
            "text/plain": [
              "<Figure size 432x288 with 1 Axes>"
            ]
          },
          "metadata": {
            "tags": [],
            "needs_background": "light"
          }
        }
      ]
    },
    {
      "cell_type": "markdown",
      "metadata": {
        "id": "ldvnxnP-3Q9J"
      },
      "source": [
        "- people usually make a reservation room, type Entire home/apt\n",
        "- sometime Private room\n",
        "- Shared room has a little reservation"
      ]
    },
    {
      "cell_type": "markdown",
      "metadata": {
        "id": "BZ289JoG3qvg"
      },
      "source": [
        "# Conclusion\n",
        " - I thought some reasons source to make a reservation for some people\n",
        "   - season, popular location, prefered room type, prefer weekday\n",
        " - popular location, prefered room type are the best make a reservation\n",
        " - unexpectedly, season, weekday are not much effected "
      ]
    },
    {
      "cell_type": "code",
      "metadata": {
        "id": "yh--z5hn9m1e"
      },
      "source": [
        ""
      ],
      "execution_count": null,
      "outputs": []
    }
  ]
}